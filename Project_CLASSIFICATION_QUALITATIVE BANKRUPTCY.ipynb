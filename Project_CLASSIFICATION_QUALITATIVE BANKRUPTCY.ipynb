{
 "cells": [
  {
   "cell_type": "markdown",
   "id": "7ff08782",
   "metadata": {},
   "source": [
    "# CLASSIFICATION WITH QUALITATIVE BANKRUPTCY DATASET"
   ]
  },
  {
   "cell_type": "markdown",
   "id": "9267109d",
   "metadata": {},
   "source": [
    "### ABOUT DATA"
   ]
  },
  {
   "cell_type": "markdown",
   "id": "7d62cf09",
   "metadata": {},
   "source": [
    "1. Title: Qualitative_Bankruptcy database\n",
    "\n",
    "2. Source Information\n",
    "   \t-- Creator:  Martin.A, Uthayakumar.j and Nadarajan.m (uthayakumar17691@gmail.com)\n",
    "  \t-- Guided By: Dr.V.Prasanna Venkatesan\n",
    "   \t-- Date:      February 2014\n",
    "\n",
    "3. Past Usage:\n",
    "\tThe attributes or parameters which we used for collecting the dataset is referred from the paper\"The discovery of experts� \n",
    "\tdecision rules from qualitative bankruptcy data using genetic algorithms\" by Myoung-Jong Kim*, Ingoo Han.\n",
    " \n",
    "4. Number of Instances: 250 \n",
    " \n",
    "5. Number of Attributes: 6, each corresponding to Qualitative Parameters in Bankruptcy\n",
    " \n",
    "6. Attribute Information: (P=Positive,A-Average,N-negative,B-Bankruptcy,NB-Non-Bankruptcy)\n",
    " \n",
    "     1. Industrial Risk: {P,A,N}\n",
    "     2. Management Risk: {P,A,N}\n",
    "     3. Financial Flexibility: {P,A,N}\n",
    "     4. Credibility: {P,A,N}\n",
    "     5. Competitiveness: {P,A,N}\n",
    "     6. Operating Risk: {P,A,N}\n",
    "     7. Class: {B,NB}\n",
    "\n",
    "### Internal Risks: \t\n",
    "i. Industry risk (IR) : \n",
    "\n",
    "\t- Government policies and International agreements, \n",
    "\t- Cyclicality, \n",
    "\t- Degree of competition,\t\t\t\t\n",
    "\t- The price and stability of market supply,\n",
    "\t- The size and growth of market demand,\t\n",
    "\t- The sensitivity to changes in macroeconomic factors,\n",
    "\t- Domestic and international competitive power, \n",
    "\t- Product Life Cycle.\n",
    "    \n",
    "ii. Management risk(MR): \n",
    "\n",
    "\t- Ability and competence of management, \n",
    "\t- Stability of management,\n",
    "\t- The relationship between management/ owner, \n",
    "\t- Human resources management, \n",
    "\t- Growth process/business performance, \n",
    "\t- Short and long term business planning, achievement and feasibility. \n",
    "    \n",
    "iii. Financial Flexibility(FF): \n",
    "\n",
    "\t- Direct financing, \n",
    "\t- Indirect financing, \n",
    "\t- Other financing \n",
    "    \n",
    "iv. Credibility (CR):  \n",
    "\n",
    "\t- Credit history,  \n",
    "\treliability of information, \n",
    "\t- The relationship with financial institutes.\n",
    "    \n",
    "v. Competitiveness (CO):  \n",
    "\n",
    "\t- Market position, \n",
    "\t- The level of core capacities, \n",
    "\tDifferentiated strategy, \n",
    "    \n",
    "vi. Operating Risk (OP):  \n",
    "\n",
    "\t- The stability and diversity of procurement, \n",
    "\t- The stability of transaction, \n",
    "\t- The efficiency of production, \n",
    "\t- The prospects for demand for product and service, \n",
    "\t- Sales diversification,\n",
    "\t- Sales price and settlement condition, \n",
    "\t- Collection of A/R,\n",
    "\t- Effectiveness of sale network.\n",
    " \n",
    "7. Missing Attribute Values: None\n",
    " \n",
    "8. Class Distribution: [143 instances For Non-Bankruptcy] [107 instances For Bankruptcy]\n",
    "        Information about the dataset\n",
    "  \tCLASSTYPE: nominal\n",
    "    \n",
    "LINK TO DATA SOURCE: https://www.kaggle.com/datasets/jagadeesh23/qualitative-bankruptcy-data-set?resource=download"
   ]
  },
  {
   "cell_type": "code",
   "execution_count": 47,
   "id": "39fb3a9b",
   "metadata": {},
   "outputs": [],
   "source": [
    "# import matplotlib.pyplot as plt\n",
    "import matplotlib.pyplot as plt\n",
    "\n",
    "import warnings\n",
    "warnings.simplefilter(action=\"ignore\")\n",
    "\n",
    "from glob import glob #library that helps us search for files\n",
    "import scipy\n",
    "from sklearn.ensemble import RandomForestClassifier, ExtraTreesClassifier,AdaBoostClassifier\n",
    "import random\n",
    "\n",
    "import numpy as np\n",
    "import pandas as pd\n",
    "import seaborn as sns\n",
    "import plotly.express as px\n",
    "from category_encoders import OneHotEncoder,TargetEncoder\n",
    "from sklearn.preprocessing import LabelEncoder\n",
    "from sklearn.preprocessing import PolynomialFeatures\n",
    "from sklearn.model_selection import KFold\n",
    "\n",
    "from sklearn.discriminant_analysis import LinearDiscriminantAnalysis\n",
    "from sklearn.metrics import confusion_matrix,classification_report,precision_recall_curve,roc_curve,roc_auc_score\n",
    "from sklearn.pipeline import make_pipeline, Pipeline\n",
    "from sklearn.utils.validation import check_is_fitted\n",
    "from sklearn.impute import SimpleImputer\n",
    "from sklearn.preprocessing import StandardScaler, MinMaxScaler, FunctionTransformer, PowerTransformer,LabelEncoder\n",
    "from sklearn.model_selection import train_test_split,GridSearchCV,RandomizedSearchCV\n",
    "from sklearn.model_selection import cross_val_score,cross_val_predict\n",
    "from sklearn.compose import ColumnTransformer\n",
    "from sklearn.tree import DecisionTreeClassifier\n",
    "import xgboost as xgb\n",
    "from sklearn.feature_selection import RFE\n",
    "from sklearn.experimental import enable_iterative_imputer\n",
    "from sklearn.impute import IterativeImputer\n",
    "from sklearn.linear_model import BayesianRidge\n",
    "from scipy.special import inv_boxcox\n",
    "from sklearn.linear_model import QuantileRegressor\n",
    "from sklearn.svm import SVC\n",
    "from imblearn.over_sampling import SMOTE\n",
    "from sklearn.naive_bayes import GaussianNB\n",
    "\n",
    "#deep learning models\n",
    "from sklearn.neural_network import MLPClassifier\n",
    "from sklearn.neighbors import KNeighborsClassifier\n",
    "pd.pandas.set_option('display.max_rows',200)\n",
    "pd.pandas.set_option('display.max_columns',None)\n",
    "#pd.options.display.float_format = '{:20,.2f}'.format\n",
    "sns.set_style('darkgrid')"
   ]
  },
  {
   "cell_type": "code",
   "execution_count": 4,
   "id": "6abdb9b1",
   "metadata": {},
   "outputs": [],
   "source": [
    "df = pd.read_excel(\"/Users/USER/Documents/DATASETS/Qualitative_Bankruptcy.xlsx\")"
   ]
  },
  {
   "cell_type": "code",
   "execution_count": 5,
   "id": "f315585f",
   "metadata": {},
   "outputs": [
    {
     "data": {
      "text/html": [
       "<div>\n",
       "<style scoped>\n",
       "    .dataframe tbody tr th:only-of-type {\n",
       "        vertical-align: middle;\n",
       "    }\n",
       "\n",
       "    .dataframe tbody tr th {\n",
       "        vertical-align: top;\n",
       "    }\n",
       "\n",
       "    .dataframe thead th {\n",
       "        text-align: right;\n",
       "    }\n",
       "</style>\n",
       "<table border=\"1\" class=\"dataframe\">\n",
       "  <thead>\n",
       "    <tr style=\"text-align: right;\">\n",
       "      <th></th>\n",
       "      <th>Industrial Risk</th>\n",
       "      <th>Management Risk</th>\n",
       "      <th>Financial Flexibility</th>\n",
       "      <th>Credibility</th>\n",
       "      <th>Competitiveness</th>\n",
       "      <th>Operating Risk</th>\n",
       "      <th>Class</th>\n",
       "    </tr>\n",
       "  </thead>\n",
       "  <tbody>\n",
       "    <tr>\n",
       "      <th>0</th>\n",
       "      <td>P</td>\n",
       "      <td>P</td>\n",
       "      <td>A</td>\n",
       "      <td>A</td>\n",
       "      <td>A</td>\n",
       "      <td>P</td>\n",
       "      <td>NB</td>\n",
       "    </tr>\n",
       "    <tr>\n",
       "      <th>1</th>\n",
       "      <td>N</td>\n",
       "      <td>N</td>\n",
       "      <td>A</td>\n",
       "      <td>A</td>\n",
       "      <td>A</td>\n",
       "      <td>N</td>\n",
       "      <td>NB</td>\n",
       "    </tr>\n",
       "    <tr>\n",
       "      <th>2</th>\n",
       "      <td>A</td>\n",
       "      <td>A</td>\n",
       "      <td>A</td>\n",
       "      <td>A</td>\n",
       "      <td>A</td>\n",
       "      <td>A</td>\n",
       "      <td>NB</td>\n",
       "    </tr>\n",
       "    <tr>\n",
       "      <th>3</th>\n",
       "      <td>P</td>\n",
       "      <td>P</td>\n",
       "      <td>P</td>\n",
       "      <td>P</td>\n",
       "      <td>P</td>\n",
       "      <td>P</td>\n",
       "      <td>NB</td>\n",
       "    </tr>\n",
       "    <tr>\n",
       "      <th>4</th>\n",
       "      <td>N</td>\n",
       "      <td>N</td>\n",
       "      <td>P</td>\n",
       "      <td>P</td>\n",
       "      <td>P</td>\n",
       "      <td>N</td>\n",
       "      <td>NB</td>\n",
       "    </tr>\n",
       "  </tbody>\n",
       "</table>\n",
       "</div>"
      ],
      "text/plain": [
       "  Industrial Risk Management Risk Financial Flexibility Credibility  \\\n",
       "0               P               P                     A           A   \n",
       "1               N               N                     A           A   \n",
       "2               A               A                     A           A   \n",
       "3               P               P                     P           P   \n",
       "4               N               N                     P           P   \n",
       "\n",
       "  Competitiveness Operating Risk Class  \n",
       "0               A              P    NB  \n",
       "1               A              N    NB  \n",
       "2               A              A    NB  \n",
       "3               P              P    NB  \n",
       "4               P              N    NB  "
      ]
     },
     "execution_count": 5,
     "metadata": {},
     "output_type": "execute_result"
    }
   ],
   "source": [
    "df.head()"
   ]
  },
  {
   "cell_type": "markdown",
   "id": "ca54133e",
   "metadata": {},
   "source": [
    "(P=Positive,A-Average,N-negative,B-Bankruptcy,NB-Non-Bankruptcy)"
   ]
  },
  {
   "cell_type": "code",
   "execution_count": 6,
   "id": "bd5fca29",
   "metadata": {},
   "outputs": [],
   "source": [
    "df = df.replace({'P':'Positive',\n",
    "                'A':'Average',\n",
    "                'N':'Negative',\n",
    "                'B':'Bankruptcy',\n",
    "                'NB':'Non_Bankruptcy'})"
   ]
  },
  {
   "cell_type": "code",
   "execution_count": 8,
   "id": "b6d21cbf",
   "metadata": {},
   "outputs": [
    {
     "data": {
      "text/html": [
       "<div>\n",
       "<style scoped>\n",
       "    .dataframe tbody tr th:only-of-type {\n",
       "        vertical-align: middle;\n",
       "    }\n",
       "\n",
       "    .dataframe tbody tr th {\n",
       "        vertical-align: top;\n",
       "    }\n",
       "\n",
       "    .dataframe thead th {\n",
       "        text-align: right;\n",
       "    }\n",
       "</style>\n",
       "<table border=\"1\" class=\"dataframe\">\n",
       "  <thead>\n",
       "    <tr style=\"text-align: right;\">\n",
       "      <th></th>\n",
       "      <th>Industrial Risk</th>\n",
       "      <th>Management Risk</th>\n",
       "      <th>Financial Flexibility</th>\n",
       "      <th>Credibility</th>\n",
       "      <th>Competitiveness</th>\n",
       "      <th>Operating Risk</th>\n",
       "      <th>Class</th>\n",
       "    </tr>\n",
       "  </thead>\n",
       "  <tbody>\n",
       "    <tr>\n",
       "      <th>0</th>\n",
       "      <td>Positive</td>\n",
       "      <td>Positive</td>\n",
       "      <td>Average</td>\n",
       "      <td>Average</td>\n",
       "      <td>Average</td>\n",
       "      <td>Positive</td>\n",
       "      <td>Non_Bankruptcy</td>\n",
       "    </tr>\n",
       "    <tr>\n",
       "      <th>1</th>\n",
       "      <td>Negative</td>\n",
       "      <td>Negative</td>\n",
       "      <td>Average</td>\n",
       "      <td>Average</td>\n",
       "      <td>Average</td>\n",
       "      <td>Negative</td>\n",
       "      <td>Non_Bankruptcy</td>\n",
       "    </tr>\n",
       "    <tr>\n",
       "      <th>2</th>\n",
       "      <td>Average</td>\n",
       "      <td>Average</td>\n",
       "      <td>Average</td>\n",
       "      <td>Average</td>\n",
       "      <td>Average</td>\n",
       "      <td>Average</td>\n",
       "      <td>Non_Bankruptcy</td>\n",
       "    </tr>\n",
       "    <tr>\n",
       "      <th>3</th>\n",
       "      <td>Positive</td>\n",
       "      <td>Positive</td>\n",
       "      <td>Positive</td>\n",
       "      <td>Positive</td>\n",
       "      <td>Positive</td>\n",
       "      <td>Positive</td>\n",
       "      <td>Non_Bankruptcy</td>\n",
       "    </tr>\n",
       "    <tr>\n",
       "      <th>4</th>\n",
       "      <td>Negative</td>\n",
       "      <td>Negative</td>\n",
       "      <td>Positive</td>\n",
       "      <td>Positive</td>\n",
       "      <td>Positive</td>\n",
       "      <td>Negative</td>\n",
       "      <td>Non_Bankruptcy</td>\n",
       "    </tr>\n",
       "  </tbody>\n",
       "</table>\n",
       "</div>"
      ],
      "text/plain": [
       "  Industrial Risk Management Risk Financial Flexibility Credibility  \\\n",
       "0        Positive        Positive               Average     Average   \n",
       "1        Negative        Negative               Average     Average   \n",
       "2         Average         Average               Average     Average   \n",
       "3        Positive        Positive              Positive    Positive   \n",
       "4        Negative        Negative              Positive    Positive   \n",
       "\n",
       "  Competitiveness Operating Risk           Class  \n",
       "0         Average       Positive  Non_Bankruptcy  \n",
       "1         Average       Negative  Non_Bankruptcy  \n",
       "2         Average        Average  Non_Bankruptcy  \n",
       "3        Positive       Positive  Non_Bankruptcy  \n",
       "4        Positive       Negative  Non_Bankruptcy  "
      ]
     },
     "execution_count": 8,
     "metadata": {},
     "output_type": "execute_result"
    }
   ],
   "source": [
    "df.head()"
   ]
  },
  {
   "cell_type": "code",
   "execution_count": 9,
   "id": "2105c4a4",
   "metadata": {},
   "outputs": [
    {
     "name": "stdout",
     "output_type": "stream",
     "text": [
      "<class 'pandas.core.frame.DataFrame'>\n",
      "RangeIndex: 250 entries, 0 to 249\n",
      "Data columns (total 7 columns):\n",
      " #   Column                 Non-Null Count  Dtype \n",
      "---  ------                 --------------  ----- \n",
      " 0   Industrial Risk        250 non-null    object\n",
      " 1   Management Risk        250 non-null    object\n",
      " 2   Financial Flexibility  250 non-null    object\n",
      " 3   Credibility            250 non-null    object\n",
      " 4   Competitiveness        250 non-null    object\n",
      " 5   Operating Risk         250 non-null    object\n",
      " 6   Class                  250 non-null    object\n",
      "dtypes: object(7)\n",
      "memory usage: 13.8+ KB\n"
     ]
    }
   ],
   "source": [
    "df.info()"
   ]
  },
  {
   "cell_type": "code",
   "execution_count": 10,
   "id": "ac8b011c",
   "metadata": {},
   "outputs": [
    {
     "data": {
      "text/html": [
       "<div>\n",
       "<style scoped>\n",
       "    .dataframe tbody tr th:only-of-type {\n",
       "        vertical-align: middle;\n",
       "    }\n",
       "\n",
       "    .dataframe tbody tr th {\n",
       "        vertical-align: top;\n",
       "    }\n",
       "\n",
       "    .dataframe thead th {\n",
       "        text-align: right;\n",
       "    }\n",
       "</style>\n",
       "<table border=\"1\" class=\"dataframe\">\n",
       "  <thead>\n",
       "    <tr style=\"text-align: right;\">\n",
       "      <th></th>\n",
       "      <th>Industrial Risk</th>\n",
       "      <th>Management Risk</th>\n",
       "      <th>Financial Flexibility</th>\n",
       "      <th>Credibility</th>\n",
       "      <th>Competitiveness</th>\n",
       "      <th>Operating Risk</th>\n",
       "      <th>Class</th>\n",
       "    </tr>\n",
       "  </thead>\n",
       "  <tbody>\n",
       "    <tr>\n",
       "      <th>count</th>\n",
       "      <td>250</td>\n",
       "      <td>250</td>\n",
       "      <td>250</td>\n",
       "      <td>250</td>\n",
       "      <td>250</td>\n",
       "      <td>250</td>\n",
       "      <td>250</td>\n",
       "    </tr>\n",
       "    <tr>\n",
       "      <th>unique</th>\n",
       "      <td>3</td>\n",
       "      <td>3</td>\n",
       "      <td>3</td>\n",
       "      <td>3</td>\n",
       "      <td>3</td>\n",
       "      <td>3</td>\n",
       "      <td>2</td>\n",
       "    </tr>\n",
       "    <tr>\n",
       "      <th>top</th>\n",
       "      <td>Negative</td>\n",
       "      <td>Negative</td>\n",
       "      <td>Negative</td>\n",
       "      <td>Negative</td>\n",
       "      <td>Negative</td>\n",
       "      <td>Negative</td>\n",
       "      <td>Non_Bankruptcy</td>\n",
       "    </tr>\n",
       "    <tr>\n",
       "      <th>freq</th>\n",
       "      <td>89</td>\n",
       "      <td>119</td>\n",
       "      <td>119</td>\n",
       "      <td>94</td>\n",
       "      <td>103</td>\n",
       "      <td>114</td>\n",
       "      <td>143</td>\n",
       "    </tr>\n",
       "  </tbody>\n",
       "</table>\n",
       "</div>"
      ],
      "text/plain": [
       "       Industrial Risk Management Risk Financial Flexibility Credibility  \\\n",
       "count              250             250                   250         250   \n",
       "unique               3               3                     3           3   \n",
       "top           Negative        Negative              Negative    Negative   \n",
       "freq                89             119                   119          94   \n",
       "\n",
       "       Competitiveness Operating Risk           Class  \n",
       "count              250            250             250  \n",
       "unique               3              3               2  \n",
       "top           Negative       Negative  Non_Bankruptcy  \n",
       "freq               103            114             143  "
      ]
     },
     "execution_count": 10,
     "metadata": {},
     "output_type": "execute_result"
    }
   ],
   "source": [
    "df.describe()"
   ]
  },
  {
   "cell_type": "markdown",
   "id": "a0fd0858",
   "metadata": {},
   "source": [
    "### SPLIT DATA"
   ]
  },
  {
   "cell_type": "code",
   "execution_count": 13,
   "id": "ce31abef",
   "metadata": {},
   "outputs": [],
   "source": [
    "train, test = train_test_split(df, test_size=0.2, random_state  = 0)"
   ]
  },
  {
   "cell_type": "markdown",
   "id": "0da11dda",
   "metadata": {},
   "source": [
    "## DATA EXPLORATION"
   ]
  },
  {
   "cell_type": "code",
   "execution_count": 14,
   "id": "4322a01d",
   "metadata": {},
   "outputs": [],
   "source": [
    "df = train.copy()"
   ]
  },
  {
   "cell_type": "markdown",
   "id": "7b35f367",
   "metadata": {},
   "source": [
    "## CHECK FOR WHITESPACES"
   ]
  },
  {
   "cell_type": "code",
   "execution_count": 15,
   "id": "e850129e",
   "metadata": {},
   "outputs": [
    {
     "data": {
      "text/plain": [
       "[]"
      ]
     },
     "execution_count": 15,
     "metadata": {},
     "output_type": "execute_result"
    }
   ],
   "source": [
    "# IN COLUMN NAMES\n",
    "[x for x in df.columns if x.startswith(' ') or x.endswith(' ')]"
   ]
  },
  {
   "cell_type": "code",
   "execution_count": 16,
   "id": "38c3cfc5",
   "metadata": {
    "scrolled": true
   },
   "outputs": [
    {
     "name": "stdout",
     "output_type": "stream",
     "text": [
      "Empty DataFrame\n",
      "Columns: [Industrial Risk, Management Risk, Financial Flexibility, Credibility, Competitiveness, Operating Risk, Class]\n",
      "Index: []\n",
      "Empty DataFrame\n",
      "Columns: [Industrial Risk, Management Risk, Financial Flexibility, Credibility, Competitiveness, Operating Risk, Class]\n",
      "Index: []\n",
      "Empty DataFrame\n",
      "Columns: [Industrial Risk, Management Risk, Financial Flexibility, Credibility, Competitiveness, Operating Risk, Class]\n",
      "Index: []\n",
      "Empty DataFrame\n",
      "Columns: [Industrial Risk, Management Risk, Financial Flexibility, Credibility, Competitiveness, Operating Risk, Class]\n",
      "Index: []\n",
      "Empty DataFrame\n",
      "Columns: [Industrial Risk, Management Risk, Financial Flexibility, Credibility, Competitiveness, Operating Risk, Class]\n",
      "Index: []\n",
      "Empty DataFrame\n",
      "Columns: [Industrial Risk, Management Risk, Financial Flexibility, Credibility, Competitiveness, Operating Risk, Class]\n",
      "Index: []\n",
      "Empty DataFrame\n",
      "Columns: [Industrial Risk, Management Risk, Financial Flexibility, Credibility, Competitiveness, Operating Risk, Class]\n",
      "Index: []\n"
     ]
    }
   ],
   "source": [
    "# IN DATA\n",
    "for i in df.columns:\n",
    "    print(df[df[i]==' '])"
   ]
  },
  {
   "cell_type": "markdown",
   "id": "3423c00f",
   "metadata": {},
   "source": [
    "## CARDINALITY"
   ]
  },
  {
   "cell_type": "code",
   "execution_count": 23,
   "id": "5abda3e8",
   "metadata": {},
   "outputs": [
    {
     "name": "stdout",
     "output_type": "stream",
     "text": [
      "Number of unique values in Industrial Risk: 3\n",
      "\n",
      "\n",
      "Unique values in Industrial Risk: ['Positive' 'Average' 'Negative']\n",
      "\n",
      "\n",
      "Frequency of unique values in Industrial Risk:\n",
      " Negative    0.365\n",
      "Average     0.330\n",
      "Positive    0.305\n",
      "Name: Industrial Risk, dtype: float64\n",
      "_______________________________________________________________________________________________________________\n",
      "\n",
      "Number of unique values in Management Risk: 3\n",
      "\n",
      "\n",
      "Unique values in Management Risk: ['Positive' 'Average' 'Negative']\n",
      "\n",
      "\n",
      "Frequency of unique values in Management Risk:\n",
      " Negative    0.460\n",
      "Average     0.275\n",
      "Positive    0.265\n",
      "Name: Management Risk, dtype: float64\n",
      "_______________________________________________________________________________________________________________\n",
      "\n",
      "Number of unique values in Financial Flexibility: 3\n",
      "\n",
      "\n",
      "Unique values in Financial Flexibility: ['Average' 'Negative' 'Positive']\n",
      "\n",
      "\n",
      "Frequency of unique values in Financial Flexibility:\n",
      " Negative    0.465\n",
      "Average     0.290\n",
      "Positive    0.245\n",
      "Name: Financial Flexibility, dtype: float64\n",
      "_______________________________________________________________________________________________________________\n",
      "\n",
      "Number of unique values in Credibility: 3\n",
      "\n",
      "\n",
      "Unique values in Credibility: ['Positive' 'Negative' 'Average']\n",
      "\n",
      "\n",
      "Frequency of unique values in Credibility:\n",
      " Negative    0.375\n",
      "Average     0.335\n",
      "Positive    0.290\n",
      "Name: Credibility, dtype: float64\n",
      "_______________________________________________________________________________________________________________\n",
      "\n",
      "Number of unique values in Competitiveness: 3\n",
      "\n",
      "\n",
      "Unique values in Competitiveness: ['Positive' 'Negative' 'Average']\n",
      "\n",
      "\n",
      "Frequency of unique values in Competitiveness:\n",
      " Negative    0.415\n",
      "Positive    0.350\n",
      "Average     0.235\n",
      "Name: Competitiveness, dtype: float64\n",
      "_______________________________________________________________________________________________________________\n",
      "\n",
      "Number of unique values in Operating Risk: 3\n",
      "\n",
      "\n",
      "Unique values in Operating Risk: ['Positive' 'Negative' 'Average']\n",
      "\n",
      "\n",
      "Frequency of unique values in Operating Risk:\n",
      " Negative    0.48\n",
      "Positive    0.31\n",
      "Average     0.21\n",
      "Name: Operating Risk, dtype: float64\n",
      "_______________________________________________________________________________________________________________\n",
      "\n",
      "Number of unique values in Class: 2\n",
      "\n",
      "\n",
      "Unique values in Class: ['Non_Bankruptcy' 'Bankruptcy']\n",
      "\n",
      "\n",
      "Frequency of unique values in Class:\n",
      " Non_Bankruptcy    0.57\n",
      "Bankruptcy        0.43\n",
      "Name: Class, dtype: float64\n",
      "_______________________________________________________________________________________________________________\n",
      "\n"
     ]
    }
   ],
   "source": [
    "for i in df.columns:\n",
    "    print(f'Number of unique values in {i}:',df[i].nunique())\n",
    "    print()\n",
    "    print()\n",
    "    print(f'Unique values in {i}:',df[i].unique())\n",
    "    print()\n",
    "    print()\n",
    "    print(f'Frequency of unique values in {i}:\\n',df[i].value_counts(normalize=True))\n",
    "    print('_______________________________________________________________________________________________________________')\n",
    "    print()"
   ]
  },
  {
   "cell_type": "markdown",
   "id": "891ea630",
   "metadata": {},
   "source": [
    "## NULL VALUES"
   ]
  },
  {
   "cell_type": "code",
   "execution_count": 24,
   "id": "bfb98e97",
   "metadata": {},
   "outputs": [
    {
     "data": {
      "text/plain": [
       "Industrial Risk          0\n",
       "Management Risk          0\n",
       "Financial Flexibility    0\n",
       "Credibility              0\n",
       "Competitiveness          0\n",
       "Operating Risk           0\n",
       "Class                    0\n",
       "dtype: int64"
      ]
     },
     "execution_count": 24,
     "metadata": {},
     "output_type": "execute_result"
    }
   ],
   "source": [
    "df.isnull().sum()"
   ]
  },
  {
   "cell_type": "markdown",
   "id": "fe00766c",
   "metadata": {},
   "source": [
    "## UNIVARIATE ANALYSIS AND CARDINALITY"
   ]
  },
  {
   "cell_type": "code",
   "execution_count": 25,
   "id": "a513d9e8",
   "metadata": {},
   "outputs": [],
   "source": [
    "cat = df.select_dtypes('O')"
   ]
  },
  {
   "cell_type": "code",
   "execution_count": 27,
   "id": "68d8435f",
   "metadata": {},
   "outputs": [
    {
     "data": {
      "image/png": "[encoded data removed]",
      "text/plain": [
       "<Figure size 432x288 with 1 Axes>"
      ]
     },
     "metadata": {},
     "output_type": "display_data"
    },
    {
     "data": {
      "image/png": "[encoded data removed]",
      "text/plain": [
       "<Figure size 432x288 with 1 Axes>"
      ]
     },
     "metadata": {},
     "output_type": "display_data"
    },
    {
     "data": {
      "image/png": "[encoded data removed]",
      "text/plain": [
       "<Figure size 432x288 with 1 Axes>"
      ]
     },
     "metadata": {},
     "output_type": "display_data"
    },
    {
     "data": {
      "image/png": "[encoded data removed]",
      "text/plain": [
       "<Figure size 432x288 with 1 Axes>"
      ]
     },
     "metadata": {},
     "output_type": "display_data"
    },
    {
     "data": {
      "image/png": "[encoded data removed]",
      "text/plain": [
       "<Figure size 432x288 with 1 Axes>"
      ]
     },
     "metadata": {},
     "output_type": "display_data"
    },
    {
     "data": {
      "image/png": "[encoded data removed]",
      "text/plain": [
       "<Figure size 432x288 with 1 Axes>"
      ]
     },
     "metadata": {},
     "output_type": "display_data"
    },
    {
     "data": {
      "image/png": "[encoded data removed]",
      "text/plain": [
       "<Figure size 432x288 with 1 Axes>"
      ]
     },
     "metadata": {},
     "output_type": "display_data"
    }
   ],
   "source": [
    "for i in cat:\n",
    "    plt.figure()\n",
    "    sns.countplot(y = df[i], palette = 'cool')"
   ]
  },
  {
   "cell_type": "markdown",
   "id": "83a97282",
   "metadata": {},
   "source": [
    "## RELATIONSHIP WITH TARGET"
   ]
  },
  {
   "cell_type": "code",
   "execution_count": 36,
   "id": "954cb9cb",
   "metadata": {},
   "outputs": [
    {
     "data": {
      "image/png": "[encoded data removed]",
      "text/plain": [
       "<Figure size 720x504 with 1 Axes>"
      ]
     },
     "metadata": {},
     "output_type": "display_data"
    },
    {
     "data": {
      "image/png": "[encoded data removed]",
      "text/plain": [
       "<Figure size 720x504 with 1 Axes>"
      ]
     },
     "metadata": {},
     "output_type": "display_data"
    },
    {
     "data": {
      "image/png": "[encoded data removed]",
      "text/plain": [
       "<Figure size 720x504 with 1 Axes>"
      ]
     },
     "metadata": {},
     "output_type": "display_data"
    },
    {
     "data": {
      "image/png": "[encoded data removed]",
      "text/plain": [
       "<Figure size 720x504 with 1 Axes>"
      ]
     },
     "metadata": {},
     "output_type": "display_data"
    },
    {
     "data": {
      "image/png": "[encoded data removed]",
      "text/plain": [
       "<Figure size 720x504 with 1 Axes>"
      ]
     },
     "metadata": {},
     "output_type": "display_data"
    },
    {
     "data": {
      "image/png": "[encoded data removed]",
      "text/plain": [
       "<Figure size 720x504 with 1 Axes>"
      ]
     },
     "metadata": {},
     "output_type": "display_data"
    },
    {
     "data": {
      "image/png": "[encoded data removed]",
      "text/plain": [
       "<Figure size 720x504 with 1 Axes>"
      ]
     },
     "metadata": {},
     "output_type": "display_data"
    }
   ],
   "source": [
    "for i in cat:\n",
    "    plt.figure(figsize=(10,7))\n",
    "    sns.countplot(data=df,x=i, hue='Class', palette = 'cool')\n",
    "    "
   ]
  },
  {
   "cell_type": "code",
   "execution_count": 39,
   "id": "12f2e783",
   "metadata": {},
   "outputs": [
    {
     "name": "stdout",
     "output_type": "stream",
     "text": [
      "Class            Bankruptcy  Non_Bankruptcy\n",
      "Industrial Risk                            \n",
      "Average                  25              41\n",
      "Negative                 43              30\n",
      "Positive                 18              43\n",
      "\n",
      "\n",
      "Class            Bankruptcy  Non_Bankruptcy\n",
      "Management Risk                            \n",
      "Average                  19              36\n",
      "Negative                 57              35\n",
      "Positive                 10              43\n",
      "\n",
      "\n",
      "Class                  Bankruptcy  Non_Bankruptcy\n",
      "Financial Flexibility                            \n",
      "Average                         4              54\n",
      "Negative                       81              12\n",
      "Positive                        1              48\n",
      "\n",
      "\n",
      "Class        Bankruptcy  Non_Bankruptcy\n",
      "Credibility                            \n",
      "Average              14              53\n",
      "Negative             70               5\n",
      "Positive              2              56\n",
      "\n",
      "\n",
      "Class            Bankruptcy  Non_Bankruptcy\n",
      "Competitiveness                            \n",
      "Average                   3              44\n",
      "Negative                 83               0\n",
      "Positive                  0              70\n",
      "\n",
      "\n",
      "Class           Bankruptcy  Non_Bankruptcy\n",
      "Operating Risk                            \n",
      "Average                 18              24\n",
      "Negative                52              44\n",
      "Positive                16              46\n",
      "\n",
      "\n",
      "Class           Bankruptcy  Non_Bankruptcy\n",
      "Class                                     \n",
      "Bankruptcy              86               0\n",
      "Non_Bankruptcy           0             114\n",
      "\n",
      "\n"
     ]
    }
   ],
   "source": [
    "for i  in cat:\n",
    "    print(pd.crosstab(df[i], df['Class']))\n",
    "    print()\n",
    "    print()"
   ]
  },
  {
   "cell_type": "markdown",
   "id": "ce015a32",
   "metadata": {},
   "source": [
    "## SPLITTING AND MODEL BUILDING"
   ]
  },
  {
   "cell_type": "code",
   "execution_count": 40,
   "id": "0c68d989",
   "metadata": {},
   "outputs": [],
   "source": [
    "xtrain = train.drop(['Class'], axis=1)\n",
    "ytrain = train.Class\n",
    "\n",
    "xtest = test.drop(['Class'], axis=1)\n",
    "ytest = test.Class"
   ]
  },
  {
   "cell_type": "code",
   "execution_count": 41,
   "id": "fe6dd384",
   "metadata": {},
   "outputs": [],
   "source": [
    "ohe = OneHotEncoder()"
   ]
  },
  {
   "cell_type": "code",
   "execution_count": 42,
   "id": "84c329f9",
   "metadata": {},
   "outputs": [],
   "source": [
    "xtrain = ohe.fit_transform(xtrain)\n",
    "\n",
    "xtest = ohe.transform(xtest)"
   ]
  },
  {
   "cell_type": "code",
   "execution_count": 43,
   "id": "93783e23",
   "metadata": {},
   "outputs": [],
   "source": [
    "le = LabelEncoder()"
   ]
  },
  {
   "cell_type": "code",
   "execution_count": 44,
   "id": "4c4731eb",
   "metadata": {},
   "outputs": [],
   "source": [
    "ytrain = le.fit_transform(ytrain)\n",
    "\n",
    "ytest = le.transform(ytest)"
   ]
  },
  {
   "cell_type": "code",
   "execution_count": 48,
   "id": "554ce924",
   "metadata": {},
   "outputs": [
    {
     "data": {
      "application/javascript": [
       "\n",
       "        if (window._pyforest_update_imports_cell) { window._pyforest_update_imports_cell('from sklearn.ensemble import GradientBoostingClassifier'); }\n",
       "    "
      ],
      "text/plain": [
       "<IPython.core.display.Javascript object>"
      ]
     },
     "metadata": {},
     "output_type": "display_data"
    }
   ],
   "source": [
    "models = []\n",
    "\n",
    "\n",
    "models.append(('LDA', LinearDiscriminantAnalysis()))\n",
    "models.append(('KNN', KNeighborsClassifier()))\n",
    "models.append(('Tree', DecisionTreeClassifier()))\n",
    "models.append(('NB', GaussianNB()))\n",
    "models.append(('SVC', SVC()))\n",
    "models.append(('MLP', MLPClassifier()))\n",
    "models.append(('Adaboost', AdaBoostClassifier()))\n",
    "models.append(('GBM', GradientBoostingClassifier()))\n",
    "models.append(('Forest', RandomForestClassifier()))\n",
    "models.append(('ExT', ExtraTreesClassifier()))"
   ]
  },
  {
   "cell_type": "code",
   "execution_count": 73,
   "id": "f51ec80a",
   "metadata": {},
   "outputs": [
    {
     "name": "stdout",
     "output_type": "stream",
     "text": [
      "LDA: mean: 0.9869705286990998 std: 0.000756856219429143\n",
      "KNN: mean: 0.9912280701754387 std: 0.012405382126079766\n",
      "Tree: mean: 1.0 std: 0.0\n",
      "NB: mean: 0.9911899379818002 std: 0.006269969447176658\n",
      "SVC: mean: 0.9957805907172995 std: 0.005967145832797902\n",
      "MLP: mean: 0.9914529914529915 std: 0.012087295404898257\n",
      "Adaboost: mean: 0.9909496728429034 std: 0.006443223181127333\n",
      "GBM: mean: 0.9908400777965994 std: 0.006506148107501595\n",
      "Forest: mean: 1.0 std: 0.0\n",
      "ExT: mean: 1.0 std: 0.0\n"
     ]
    }
   ],
   "source": [
    "cv_results = []\n",
    "names = []\n",
    "\n",
    "for name,model in models:\n",
    "    names.append(name)\n",
    "    kfold = KFold(n_splits = 3)\n",
    "    cv = cross_val_score(model, xtrain, ytrain, cv=kfold, scoring='f1')\n",
    "    \n",
    "    cv_results.append(cv)\n",
    "    print(f'{name}:', 'mean:',cv.mean(),'std:',cv.std())"
   ]
  },
  {
   "cell_type": "code",
   "execution_count": 74,
   "id": "0f74012d",
   "metadata": {},
   "outputs": [
    {
     "data": {
      "image/png": "[encoded data removed]",
      "text/plain": [
       "<Figure size 720x720 with 1 Axes>"
      ]
     },
     "metadata": {},
     "output_type": "display_data"
    }
   ],
   "source": [
    "fig = plt.figure(figsize=(10, 10))\n",
    "\n",
    "ax = fig.add_subplot(111)\n",
    "\n",
    "plt.boxplot(cv_results)\n",
    "ax.set_xticklabels(names);"
   ]
  },
  {
   "cell_type": "code",
   "execution_count": 75,
   "id": "6be0c3e6",
   "metadata": {},
   "outputs": [
    {
     "name": "stdout",
     "output_type": "stream",
     "text": [
      "              precision    recall  f1-score   support\n",
      "\n",
      "           0       0.95      1.00      0.98        20\n",
      "           1       1.00      0.97      0.98        30\n",
      "\n",
      "    accuracy                           0.98        50\n",
      "   macro avg       0.98      0.98      0.98        50\n",
      "weighted avg       0.98      0.98      0.98        50\n",
      "\n"
     ]
    }
   ],
   "source": [
    "## TESTING\n",
    "model = LinearDiscriminantAnalysis()\n",
    "model.fit(xtrain, ytrain)\n",
    "\n",
    "ypred = model.predict(xtest)\n",
    "print(classification_report(ypred, ytest))\n"
   ]
  },
  {
   "cell_type": "code",
   "execution_count": null,
   "id": "ed846196",
   "metadata": {},
   "outputs": [],
   "source": []
  }
 ],
 "metadata": {
  "kernelspec": {
   "display_name": "Python 3",
   "language": "python",
   "name": "python3"
  },
  "language_info": {
   "codemirror_mode": {
    "name": "ipython",
    "version": 3
   },
   "file_extension": ".py",
   "mimetype": "text/x-python",
   "name": "python",
   "nbconvert_exporter": "python",
   "pygments_lexer": "ipython3",
   "version": "3.8.8"
  }
 },
 "nbformat": 4,
 "nbformat_minor": 5
}
